{
 "cells": [
  {
   "cell_type": "code",
   "execution_count": 44,
   "id": "stuffed-routine",
   "metadata": {},
   "outputs": [
    {
     "name": "stdin",
     "output_type": "stream",
     "text": [
      "Vos nombres (ex : 1, 3, 4) :  3,2,1,3\n",
      "Votre cible :  3\n"
     ]
    },
    {
     "name": "stdout",
     "output_type": "stream",
     "text": [
      "['1', '2', '3']\n",
      "[['1', '2']]\n"
     ]
    }
   ],
   "source": [
    "#Target somme¶ \n",
    "a = list(set(input('Vos nombres (ex : 1, 3, 4) : ').split(',')))\n",
    "found = []\n",
    "target = int(input('Votre cible : '))\n",
    "for i in a:\n",
    "    b = a[:]\n",
    "    b.remove(i)\n",
    "    for j in b:\n",
    "        if int(i) + int(j) == int(target):\n",
    "            found.append([i, j])\n",
    "    a.remove(i)   \n",
    "print(found)    \n"
   ]
  },
  {
   "cell_type": "code",
   "execution_count": null,
   "id": "unavailable-portal",
   "metadata": {},
   "outputs": [],
   "source": []
  }
 ],
 "metadata": {
  "kernelspec": {
   "display_name": "Python 3",
   "language": "python",
   "name": "python3"
  },
  "language_info": {
   "codemirror_mode": {
    "name": "ipython",
    "version": 3
   },
   "file_extension": ".py",
   "mimetype": "text/x-python",
   "name": "python",
   "nbconvert_exporter": "python",
   "pygments_lexer": "ipython3",
   "version": "3.7.4"
  }
 },
 "nbformat": 4,
 "nbformat_minor": 5
}
