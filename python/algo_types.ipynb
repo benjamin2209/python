{
 "cells": [
  {
   "cell_type": "code",
   "execution_count": null,
   "id": "behavioral-explosion",
   "metadata": {},
   "outputs": [],
   "source": [
    "#Target somme¶ \n",
    "a = list(set(input('Vos nombres (ex : 1, 3, 4) : ').split(',')))\n",
    "found = []\n",
    "target = int(input('Votre cible : '))\n",
    "for i in a:\n",
    "    b = a[:]\n",
    "    b.remove(i)\n",
    "    for j in b:\n",
    "        if int(i) + int(j) == int(target):\n",
    "            found.append([i, j])\n",
    "    a.remove(i)   \n",
    "print(found)    \n"
   ]
  },
  {
   "cell_type": "code",
   "execution_count": null,
   "id": "lined-mason",
   "metadata": {},
   "outputs": [],
   "source": [
    "#target somme update\n",
    "tab = [3, 5, -4, 8, 11, 1, -1, 6] \n",
    "target = 10\n",
    "somme = {}\n",
    "found = []\n",
    "for i in tab:\n",
    "    if i != target :\n",
    "        res = target - i # target = 3, i = 2 res = 1\n",
    "        somme[res] = i\n",
    "        search = target - res\n",
    "        if search != res and search in somme:\n",
    "            found.extend((i, somme[search]))\n",
    "\n",
    "print (found)"
   ]
  },
  {
   "cell_type": "code",
   "execution_count": null,
   "id": "friendly-marsh",
   "metadata": {},
   "outputs": [],
   "source": []
  },
  {
   "cell_type": "code",
   "execution_count": null,
   "id": "blank-baseball",
   "metadata": {},
   "outputs": [],
   "source": []
  },
  {
   "cell_type": "code",
   "execution_count": 278,
   "id": "binary-stake",
   "metadata": {},
   "outputs": [
    {
     "name": "stdin",
     "output_type": "stream",
     "text": [
      "Votre premier mot :  abc\n",
      "Votre deuxième mot :  yabd\n"
     ]
    },
    {
     "name": "stdout",
     "output_type": "stream",
     "text": [
      "      a b c \n",
      "    _ _ _ _ \n",
      "  | 0 1 2 3 \n",
      "y | 1 1 2 3 \n",
      "a | 2 1 2 3 \n",
      "b | 3 2 1 2 \n",
      "d | 4 2 2 2 \n",
      "\n",
      "2\n"
     ]
    }
   ],
   "source": [
    "#Levenshtein\n",
    "\n",
    "a = input('Votre premier mot : ')\n",
    "b = input('Votre deuxième mot : ')\n",
    "m = dict()\n",
    "\n",
    "# {\n",
    "#    0: {0: 0, 1: 1, 2: 2, 3: 3, 4: 4, 5: 5}, \n",
    "#    1: {0: 0, 1: 0, 2: 0, 3: 0, 4: 0, 5: 0}, \n",
    "#    2: {0: 0, 1: 0, 2: 0, 3: 0, 4: 0, 5: 0}, \n",
    "#    3: {0: 0, 1: 0, 2: 0, 3: 0, 4: 0, 5: 0}, \n",
    "#    4: {0: 0, 1: 0, 2: 0, 3: 0, 4: 0, 5: 0}, \n",
    "#    5: {0: 0, 1: 0, 2: 0, 3: 0, 4: 0, 5: 0}\n",
    "#}\n",
    "\n",
    "\n",
    "for i in range(0, len(b) + 1):\n",
    "    row = {}\n",
    "    if i == 0:\n",
    "        for j in range(0, len(a) + 1):\n",
    "            row[j] = j\n",
    "    else :\n",
    "        for j in range(0, len(a) + 1):\n",
    "            if j == 0:\n",
    "                row[j] = i\n",
    "            else:\n",
    "                row[j] = 0\n",
    "    m.update({i : row})\n",
    "\n",
    "\n",
    "def adj(m, x, y):\n",
    "    rmax = len(a)\n",
    "    res = []\n",
    "    if x != 0:\n",
    "        res.append(m.get(x-1).get(y))\n",
    "        if y != rmax:\n",
    "            res.append(m.get(x - 1).get(y + 1))\n",
    "        if y != 0:    \n",
    "            res.append(m.get(x - 1).get(y - 1))    \n",
    "    if y != 0:    \n",
    "        res.append(m.get(x).get(y - 1))\n",
    "    return res\n",
    "\n",
    "def printM(m):\n",
    "    print('      ', end='') \n",
    "    for i in range(0, len(a)):\n",
    "        print (a[i], end=' ')   \n",
    "    print('')        \n",
    "    print('    ', end='')    \n",
    "    for i in range(0, len(a) + 1):\n",
    "        print (\"_\", end=' ')       \n",
    "    print('')    \n",
    "    for i in range(0, len(b) + 1):\n",
    "        if i > 0:\n",
    "            print (b[i - 1] + ' |', end=' ')\n",
    "        else:\n",
    "            print ('  |', end=' ')\n",
    "        for j in range(0, len(a) + 1):\n",
    "            print(m[i][j], end=\" \")\n",
    "        print('')        \n",
    "    print('')            \n",
    "\n",
    "#print la matrice d'adj\n",
    "for i in range(1, len(b) + 1):\n",
    "    for j in range(0, len(a) + 1):\n",
    "        if i > 0 and j > 0:\n",
    "            if a[j - 1] == b[i - 1]:\n",
    "                m[i][j] = m[i - 1][j - 1]\n",
    "            else :\n",
    "                m[i][j] = min(adj(m, i, j)) + 1\n",
    "printM(m)        \n",
    "print (m[len(b)][len(a)])  \n",
    "    "
   ]
  },
  {
   "cell_type": "code",
   "execution_count": null,
   "id": "secondary-omega",
   "metadata": {
    "jupyter": {
     "source_hidden": true
    },
    "tags": []
   },
   "outputs": [],
   "source": []
  },
  {
   "cell_type": "code",
   "execution_count": null,
   "id": "welsh-kingston",
   "metadata": {},
   "outputs": [],
   "source": []
  }
 ],
 "metadata": {
  "kernelspec": {
   "display_name": "Python 3",
   "language": "python",
   "name": "python3"
  },
  "language_info": {
   "codemirror_mode": {
    "name": "ipython",
    "version": 3
   },
   "file_extension": ".py",
   "mimetype": "text/x-python",
   "name": "python",
   "nbconvert_exporter": "python",
   "pygments_lexer": "ipython3",
   "version": "3.7.4"
  }
 },
 "nbformat": 4,
 "nbformat_minor": 5
}
