{
 "cells": [
  {
   "cell_type": "code",
   "execution_count": 52,
   "id": "average-characteristic",
   "metadata": {
    "tags": []
   },
   "outputs": [
    {
     "name": "stdout",
     "output_type": "stream",
     "text": [
      "2 3\n",
      "3 2\n"
     ]
    }
   ],
   "source": [
    "#1.1\n",
    "a, b = 2, 3\n",
    "print(a, b)\n",
    "a,b = b,a\n",
    "print(a, b)"
   ]
  },
  {
   "cell_type": "code",
   "execution_count": 18,
   "id": "boxed-arabic",
   "metadata": {
    "collapsed": true,
    "jupyter": {
     "outputs_hidden": true
    },
    "tags": []
   },
   "outputs": [
    {
     "name": "stdin",
     "output_type": "stream",
     "text": [
      "Votre nombre 12\n"
     ]
    },
    {
     "name": "stdout",
     "output_type": "stream",
     "text": [
      "144.0\n"
     ]
    }
   ],
   "source": [
    "#1.2\n",
    "a = float(input('Votre nombre : '))\n",
    "print(a*a)"
   ]
  },
  {
   "cell_type": "code",
   "execution_count": 22,
   "id": "personal-helmet",
   "metadata": {
    "collapsed": true,
    "jupyter": {
     "outputs_hidden": true
    },
    "tags": []
   },
   "outputs": [
    {
     "name": "stdin",
     "output_type": "stream",
     "text": [
      "Nombre 1 12\n",
      "Nombre 2 -2\n"
     ]
    },
    {
     "name": "stdout",
     "output_type": "stream",
     "text": [
      "Négatif\n"
     ]
    }
   ],
   "source": [
    "#1.4\n",
    "a = float(input('Nombre 1 : '))\n",
    "b = float(input('Nombre 2 : '))\n",
    "print('Positif' if a >= 0 and b >= 0  else 'Négatif')"
   ]
  },
  {
   "cell_type": "code",
   "execution_count": 26,
   "id": "structured-gospel",
   "metadata": {
    "collapsed": true,
    "jupyter": {
     "outputs_hidden": true
    },
    "tags": []
   },
   "outputs": [
    {
     "name": "stdin",
     "output_type": "stream",
     "text": [
      "Votre nombre :  17\n"
     ]
    },
    {
     "name": "stdout",
     "output_type": "stream",
     "text": [
      "18.0\n",
      "19.0\n",
      "20.0\n",
      "21.0\n",
      "22.0\n",
      "23.0\n",
      "24.0\n",
      "25.0\n",
      "26.0\n",
      "27.0\n"
     ]
    }
   ],
   "source": [
    "#1.5\n",
    "a = float(input('Votre nombre : '))\n",
    "for i in range(1,11) :\n",
    "    print(a + i)\n",
    "    "
   ]
  },
  {
   "cell_type": "code",
   "execution_count": 33,
   "id": "colored-timeline",
   "metadata": {
    "collapsed": true,
    "jupyter": {
     "outputs_hidden": true
    },
    "tags": []
   },
   "outputs": [
    {
     "name": "stdin",
     "output_type": "stream",
     "text": [
      "Votre nombre :  5\n"
     ]
    },
    {
     "name": "stdout",
     "output_type": "stream",
     "text": [
      "1 + \n",
      "2 + \n",
      "3 + \n",
      "4 + \n",
      "5 + \n",
      "15\n"
     ]
    }
   ],
   "source": [
    "#1.6\n",
    "a = int(input('Votre nombre : '))\n",
    "b = 0\n",
    "for i in range(1,a + 1) :\n",
    "    b = b + i\n",
    "print (b )   "
   ]
  },
  {
   "cell_type": "code",
   "execution_count": 38,
   "id": "derived-wayne",
   "metadata": {},
   "outputs": [
    {
     "name": "stdout",
     "output_type": "stream",
     "text": [
      "21\n"
     ]
    }
   ],
   "source": [
    "#2.1\n",
    "tab = [1,3,8,10,-1,0]\n",
    "s = 0\n",
    "for i in tab :\n",
    "    s = s + i\n",
    "print (s)"
   ]
  },
  {
   "cell_type": "code",
   "execution_count": 40,
   "id": "technological-hello",
   "metadata": {},
   "outputs": [
    {
     "name": "stdout",
     "output_type": "stream",
     "text": [
      "1 + 4 = 5\n",
      "3 + 8 = 11\n",
      "8 + -1 = 7\n",
      "10 + 3 = 13\n",
      "-1 + 9 = 8\n",
      "0 + 10 = 10\n"
     ]
    }
   ],
   "source": [
    "#2.2\n",
    "tab1 = [1,3,8,10,-1,0]\n",
    "tab2 = [4,8,-1,3,9,10]\n",
    "for i in range(0, len(tab1)) :\n",
    "    print(str(tab1[i]) + ' + ' + str(tab2[i]) + ' = ' + str(tab1[i] + tab2[i]))\n"
   ]
  },
  {
   "cell_type": "code",
   "execution_count": 43,
   "id": "fossil-niagara",
   "metadata": {},
   "outputs": [
    {
     "name": "stdout",
     "output_type": "stream",
     "text": [
      "21\n"
     ]
    }
   ],
   "source": [
    "#2.3\n",
    "tab1 = [1,2]\n",
    "tab2 = [3,4]\n",
    "s = 0\n",
    "for i1 in tab1 :\n",
    "    for i2 in tab2 :\n",
    "        s = s + (i1 * i2)\n",
    "print(s)\n",
    "    "
   ]
  },
  {
   "cell_type": "code",
   "execution_count": 51,
   "id": "logical-solution",
   "metadata": {},
   "outputs": [
    {
     "name": "stdin",
     "output_type": "stream",
     "text": [
      "Combien de chiffre :  3\n",
      "Votre nombre :  1\n"
     ]
    },
    {
     "name": "stdout",
     "output_type": "stream",
     "text": [
      "C'était plus grand\n"
     ]
    },
    {
     "name": "stdin",
     "output_type": "stream",
     "text": [
      "Votre nombre :  4\n"
     ]
    },
    {
     "name": "stdout",
     "output_type": "stream",
     "text": [
      "C'était plus grand\n"
     ]
    },
    {
     "name": "stdin",
     "output_type": "stream",
     "text": [
      "Votre nombre :  2\n"
     ]
    },
    {
     "name": "stdout",
     "output_type": "stream",
     "text": [
      "C'était plus petit\n",
      "Le plus grand nombre était 4\n"
     ]
    }
   ],
   "source": [
    "#2.4\n",
    "max = None\n",
    "r = int(input(\"Combien de chiffre : \"))\n",
    "for i in range(0, r) :\n",
    "    nb = input(\"Votre nombre : \")\n",
    "    if max is None or nb > max :\n",
    "        max = nb\n",
    "        print(\"C'était plus grand\")\n",
    "    else :\n",
    "        print(\"C'était plus petit\")\n",
    "print('Le plus grand nombre était ' + str(max))"
   ]
  },
  {
   "cell_type": "code",
   "execution_count": 63,
   "id": "obvious-brick",
   "metadata": {},
   "outputs": [
    {
     "name": "stdin",
     "output_type": "stream",
     "text": [
      "Saisir alpha :  5\n"
     ]
    },
    {
     "name": "stdout",
     "output_type": "stream",
     "text": [
      "84\n"
     ]
    }
   ],
   "source": [
    "#3.1\n",
    "a = int(input('Saisir alpha : '))\n",
    "s = 0\n",
    "n = 1\n",
    "while s < a :\n",
    "    s = s + (1/n)\n",
    "    #print(str('1') + \"/\" + str(n))\n",
    "    n = n + 1\n",
    "print (n)"
   ]
  },
  {
   "cell_type": "code",
   "execution_count": 149,
   "id": "organized-prescription",
   "metadata": {},
   "outputs": [
    {
     "name": "stdout",
     "output_type": "stream",
     "text": [
      "[{11: 6}, {3: -2}, {50: 45}, {60: 55}, {90: 85}]\n",
      "[{3: -8}, {50: 39}, {60: 49}, {90: 79}]\n",
      "[{50: 47}, {60: 57}, {90: 87}]\n",
      "[{60: 10}, {90: 40}]\n",
      "[{90: 30}]\n",
      "[{5: [{11: 6}, {3: -2}, {50: 45}, {60: 55}, {90: 85}]}, {11: [{3: -8}, {50: 39}, {60: 49}, {90: 79}]}, {3: [{50: 47}, {60: 57}, {90: 87}]}, {50: [{60: 10}, {90: 40}]}, {60: [{90: 30}]}]\n",
      "\n",
      "{5: [{11: 6}, {3: -2}, {50: 45}, {60: 55}, {90: 85}]}\n",
      "{11: 6}\n",
      "{3: -2}\n",
      "{50: 45}\n",
      "{60: 55}\n",
      "{90: 85}\n",
      "{11: [{3: -8}, {50: 39}, {60: 49}, {90: 79}]}\n",
      "{3: -8}\n",
      "{50: 39}\n",
      "{60: 49}\n",
      "{90: 79}\n",
      "{3: [{50: 47}, {60: 57}, {90: 87}]}\n",
      "{50: 47}\n",
      "{60: 57}\n",
      "{90: 87}\n",
      "{50: [{60: 10}, {90: 40}]}\n",
      "{60: 10}\n",
      "{90: 40}\n",
      "{60: [{90: 30}]}\n",
      "{90: 30}\n"
     ]
    }
   ],
   "source": [
    "# PB traiding\n",
    "import math\n",
    "\n",
    "#permet de retourner la différence entre deux nombres\n",
    "def distance(a, b):\n",
    "    if (a == b):\n",
    "        return 0\n",
    "    elif (a < 0) and (b < 0) or (a > 0) and (b > 0):\n",
    "        if (a < b):\n",
    "            return (abs(abs(a) - abs(b)))\n",
    "        else:\n",
    "            return -(abs(abs(a) - abs(b)))\n",
    "    else:\n",
    "        return math.copysign((abs(a) + abs(b)),b)   \n",
    "\n",
    "#calcul pour chaque prix le bénéfice de revente par rapport à tous les autres     \n",
    "def maxPerDay(prices, price) :\n",
    "    max = []\n",
    "    for i in range(len(prices)):\n",
    "        max.append({prices[i]: distance(price, prices[i])}) \n",
    "    print(max)    \n",
    "    return max  \n",
    "\n",
    "#récupère le profit maximum pour un prix (prix ou il faut vendre pour gagner le plus)\n",
    "def maxProfitForDay(prices):\n",
    "    max = None\n",
    "    print(prices)\n",
    "    for key in prices:\n",
    "        for to in prices[key]:\n",
    "            print(to)\n",
    "\n",
    "#cours du prix            \n",
    "prices = [5, 11, 3, 50, 60, 90]\n",
    "#nombre de transactions \n",
    "k = 1\n",
    "current = None\n",
    "maxFd = []\n",
    "\n",
    "\n",
    "for price in prices:\n",
    "    index = prices.index(price) + 1;\n",
    "    if index < len(prices):\n",
    "        maxFd.append({price: maxPerDay(prices[index:],price)})\n",
    "        \n",
    "print (maxFd)\n",
    "print()\n",
    "for day in maxFd:\n",
    "    maxProfitForDay(day)\n",
    "    \n",
    "\n",
    "    "
   ]
  },
  {
   "cell_type": "code",
   "execution_count": null,
   "id": "supported-couple",
   "metadata": {},
   "outputs": [],
   "source": []
  }
 ],
 "metadata": {
  "kernelspec": {
   "display_name": "Python 3",
   "language": "python",
   "name": "python3"
  },
  "language_info": {
   "codemirror_mode": {
    "name": "ipython",
    "version": 3
   },
   "file_extension": ".py",
   "mimetype": "text/x-python",
   "name": "python",
   "nbconvert_exporter": "python",
   "pygments_lexer": "ipython3",
   "version": "3.7.4"
  }
 },
 "nbformat": 4,
 "nbformat_minor": 5
}
