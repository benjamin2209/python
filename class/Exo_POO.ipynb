{
 "cells": [
  {
   "cell_type": "code",
   "execution_count": 19,
   "id": "discrete-independence",
   "metadata": {},
   "outputs": [
    {
     "name": "stdout",
     "output_type": "stream",
     "text": [
      "Le compte de Dupont a un solde de 1000\n",
      "Le compte de Dupont a un solde de 1100\n",
      "Le compte de Dupont a un solde de 900\n"
     ]
    }
   ],
   "source": [
    "#Le compte bancaire\n",
    "\n",
    "class Account:\n",
    "    \n",
    "    def __init__(self, name = 'Dupont', balance = 1000):\n",
    "        self.name = name\n",
    "        self.balance = balance\n",
    "\n",
    "    def credit(self, amount):\n",
    "        self.balance += amount\n",
    "        \n",
    "    def debit(self, amount):\n",
    "        self.balance -= amount    \n",
    "    \n",
    "    def __repr__(self):\n",
    "        return ('Le compte de ' + self.name + ' a un solde de ' + str(self.balance))\n",
    "        \n",
    "a = Account()\n",
    "print(a)\n",
    "a.credit(100)\n",
    "print(a)\n",
    "a.debit(200)\n",
    "print(a)"
   ]
  },
  {
   "cell_type": "code",
   "execution_count": 26,
   "id": "sharp-approach",
   "metadata": {},
   "outputs": [
    {
     "name": "stdout",
     "output_type": "stream",
     "text": [
      "P(0, 1)\n",
      "P(0, 1, 3)\n"
     ]
    }
   ],
   "source": [
    "#La surcharge d'opérateur\n",
    "\n",
    "class Point:\n",
    "    \n",
    "    def __init__(self, x, y, z = None):\n",
    "        self.x = x\n",
    "        self.y = y\n",
    "        self.z = z\n",
    "        \n",
    "    def __repr__(self):\n",
    "        return ('P(' + str(self.x) + ', ' + str(self.y) + (', ' + str(self.z)  if self.z != None else '') + ')')\n",
    "print(Point(0, 1))\n",
    "print(Point(0, 1, 3))"
   ]
  },
  {
   "cell_type": "code",
   "execution_count": 40,
   "id": "compressed-funds",
   "metadata": {},
   "outputs": [
    {
     "name": "stdout",
     "output_type": "stream",
     "text": [
      "Nom : Caroline\n",
      "Prénom : Dupont\n",
      "Date de naissance: 21/8/1975\n",
      "\n",
      "Nom : Caroline\n",
      "Prénom : Dupont\n",
      "Date de naissance: 21/8/1975\n",
      "Salaire : 1200\n",
      "\n",
      "Nom : Caroline\n",
      "Prénom : Dupont\n",
      "Date de naissance: 21/8/1975\n",
      "Salaire : 1200\n",
      "Service : Compta\n",
      "\n"
     ]
    }
   ],
   "source": [
    "#L'héritage simple\n",
    "\n",
    "class Birthdate:\n",
    "\n",
    "    def __init__(self, day, month, year):\n",
    "        self.day = day\n",
    "        self.month = month\n",
    "        self.year = year\n",
    "\n",
    "    def __repr__(self):\n",
    "        return 'Date de naissance: ' + str(self.day) + '/' + str(self.month) + '/' + str(self.year)\n",
    "\n",
    "class Personn:\n",
    "    \n",
    "    def __init__(self, firstname, lastname, birthdate):\n",
    "        self.firstname = firstname\n",
    "        self.lastname = lastname\n",
    "        self.birthdate = birthdate\n",
    "        \n",
    "    def __repr__(self):\n",
    "        return 'Nom : ' + str(self.firstname) + '\\n' + 'Prénom : ' + str(self.lastname) + '\\n' + str(self.birthdate) + '\\n' \n",
    "    \n",
    "class Employee(Personn):\n",
    "    def __init__(self, firstname, lastname, birthdate, salary):\n",
    "        self.salary = salary\n",
    "        Personn.__init__(self, firstname, lastname, birthdate)\n",
    "    \n",
    "    def __repr__(self):\n",
    "        return Personn.__repr__(self) + 'Salaire : ' + str(self.salary) + '\\n'\n",
    "\n",
    "class Cheff(Employee):\n",
    "    def __init__(self, firstname, lastname, birthdate, salary, service):\n",
    "        self.service = service\n",
    "        Employee.__init__(self, firstname, lastname, birthdate, salary)\n",
    "    \n",
    "    def __repr__(self):\n",
    "        return Employee.__repr__(self) + 'Service : ' + str(self.service) + '\\n'\n",
    "\n",
    "p1 = Personn('Caroline', 'Dupont', Birthdate(21,8,1975) )    \n",
    "print(p1)  \n",
    "e1 = Employee('Caroline', 'Dupont', Birthdate(21,8,1975), 1200 )    \n",
    "print(e1)  \n",
    "c1 = Cheff('Caroline', 'Dupont', Birthdate(21,8,1975), 1200, 'Compta')    \n",
    "print(c1)  "
   ]
  },
  {
   "cell_type": "code",
   "execution_count": 61,
   "id": "inner-shore",
   "metadata": {},
   "outputs": [
    {
     "name": "stdout",
     "output_type": "stream",
     "text": [
      "Lettre\n",
      "Adresse destination : Lille\n",
      "Adresse d'éxpedition : Paris\n",
      "Poids : 80\n",
      "Mode d'envoi : normal\n",
      "Format : A4\n",
      "Prix : 82.5\n",
      "\n",
      "Colis\n",
      "Adresse destination : Marrakeche\n",
      "Adresse d'éxpedition : Barcelone\n",
      "Poids : 3500\n",
      "Mode d'envoi : express\n",
      "Volume : 2.25 litres\n",
      "Prix : 3500.5625\n",
      "\n"
     ]
    }
   ],
   "source": [
    "#polymorphisme\n",
    "\n",
    "class Box:\n",
    "    \n",
    "    def __init__(self, weight,expType, dest, exp):\n",
    "        self.weight = weight\n",
    "        self.expType = expType\n",
    "        self.dest = dest\n",
    "        self.exp = exp\n",
    "        \n",
    "    def __repr__(self):\n",
    "        res = self.typeName() + '\\n' \n",
    "        res += 'Adresse destination : ' + self.dest + '\\n' \n",
    "        res += 'Adresse d\\'éxpedition : ' + self.exp + '\\n'\n",
    "        res += 'Poids : ' + str(self.weight) + '\\n'\n",
    "        res += 'Mode d\\'envoi : ' + self.expType + '\\n'\n",
    "        res += self.formatName() + '\\n'\n",
    "        res += 'Prix : ' + str(self.price()) + '\\n'\n",
    "        return res\n",
    "    \n",
    "    def price(self):\n",
    "        pass\n",
    "    \n",
    "    def typeName(self):\n",
    "        pass\n",
    "    \n",
    "    def formatName(self):\n",
    "        pass\n",
    "    \n",
    "class Letter(Box):\n",
    "\n",
    "    def __init__(self, weight,expType, dest, exp, f):\n",
    "        Box.__init__(self, weight,expType, dest, exp)\n",
    "        self.f = f   \n",
    "        \n",
    "    def price(self):\n",
    "        basePrice = 2.5 if self.f == 'A4' else 3.5\n",
    "        return basePrice + (1 * self.weight)\n",
    "    \n",
    "    def typeName(self):\n",
    "        return 'Lettre'\n",
    "    \n",
    "    def formatName(self):\n",
    "        return 'Format : ' + self.f\n",
    "\n",
    "class Package(Box):\n",
    "    def __init__(self, weight,expType, dest, exp, volume):\n",
    "        Box.__init__(self, weight,expType, dest, exp)\n",
    "        self.volume = volume  \n",
    "        \n",
    "    def typeName(self):\n",
    "        return 'Colis'\n",
    "    \n",
    "    def formatName(self):\n",
    "        return 'Volume : ' + str(self.volume) + ' litres'\n",
    "    \n",
    "    def price(self):\n",
    "        return (0.25 * self.volume) + (1 * self.weight)\n",
    "\n",
    "L1 = Letter(80, 'normal', 'Lille','Paris','A4')\n",
    "C1=Package(3500, 'express', 'Marrakeche','Barcelone',2.25)\n",
    "print(L1)\n",
    "print(C1)"
   ]
  },
  {
   "cell_type": "code",
   "execution_count": null,
   "id": "inside-savannah",
   "metadata": {},
   "outputs": [],
   "source": []
  }
 ],
 "metadata": {
  "kernelspec": {
   "display_name": "Python 3",
   "language": "python",
   "name": "python3"
  },
  "language_info": {
   "codemirror_mode": {
    "name": "ipython",
    "version": 3
   },
   "file_extension": ".py",
   "mimetype": "text/x-python",
   "name": "python",
   "nbconvert_exporter": "python",
   "pygments_lexer": "ipython3",
   "version": "3.7.4"
  }
 },
 "nbformat": 4,
 "nbformat_minor": 5
}
