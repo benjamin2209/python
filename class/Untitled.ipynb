{
 "cells": [
  {
   "cell_type": "code",
   "execution_count": 19,
   "id": "passing-tennis",
   "metadata": {},
   "outputs": [
    {
     "name": "stdout",
     "output_type": "stream",
     "text": [
      "Le compte de Dupont a un solde de 1000\n",
      "Le compte de Dupont a un solde de 1100\n",
      "Le compte de Dupont a un solde de 900\n"
     ]
    }
   ],
   "source": [
    "#Le compte bancaire\n",
    "\n",
    "class Account:\n",
    "    \n",
    "    def __init__(self, name = 'Dupont', balance = 1000):\n",
    "        self.name = name\n",
    "        self.balance = balance\n",
    "\n",
    "    def credit(self, amount):\n",
    "        self.balance += amount\n",
    "        \n",
    "    def debit(self, amount):\n",
    "        self.balance -= amount    \n",
    "    \n",
    "    def __repr__(self):\n",
    "        return ('Le compte de ' + self.name + ' a un solde de ' + str(self.balance))\n",
    "        \n",
    "a = Account()\n",
    "print(a)\n",
    "a.credit(100)\n",
    "print(a)\n",
    "a.debit(200)\n",
    "print(a)"
   ]
  },
  {
   "cell_type": "code",
   "execution_count": 26,
   "id": "devoted-somalia",
   "metadata": {},
   "outputs": [
    {
     "name": "stdout",
     "output_type": "stream",
     "text": [
      "P(0, 1)\n",
      "P(0, 1, 3)\n"
     ]
    }
   ],
   "source": [
    "#La surcharge d'opérateur\n",
    "\n",
    "class Point:\n",
    "    \n",
    "    def __init__(self, x, y, z = None):\n",
    "        self.x = x\n",
    "        self.y = y\n",
    "        self.z = z\n",
    "        \n",
    "    def __repr__(self):\n",
    "        return ('P(' + str(self.x) + ', ' + str(self.y) + (', ' + str(self.z)  if self.z != None else '') + ')')\n",
    "print(Point(0, 1))\n",
    "print(Point(0, 1, 3))"
   ]
  },
  {
   "cell_type": "code",
   "execution_count": 39,
   "id": "saving-financing",
   "metadata": {},
   "outputs": [
    {
     "name": "stdout",
     "output_type": "stream",
     "text": [
      "Nom : Robert\n",
      "Prénom : Benjamin\n",
      "Date de naissance: 21/12/1999\n",
      "\n",
      "Nom : Robert\n",
      "Prénom : Benjamin\n",
      "Date de naissance: 21/12/1999\n",
      "Salaire : 4000\n",
      "\n",
      "Nom : Robert\n",
      "Prénom : Benjamin\n",
      "Date de naissance: 21/12/1999\n",
      "Salaire : 4000\n",
      "Service : Chef\n",
      "\n"
     ]
    }
   ],
   "source": [
    "#L'héritage simple\n",
    "\n",
    "class Birthdate:\n",
    "\n",
    "    def __init__(self, day, month, year):\n",
    "        self.day = day\n",
    "        self.month = month\n",
    "        self.year = year\n",
    "\n",
    "    def __repr__(self):\n",
    "        return 'Date de naissance: ' + str(self.day) + '/' + str(self.month) + '/' + str(self.year)\n",
    "\n",
    "class Personn:\n",
    "    \n",
    "    def __init__(self, firstname, lastname, birthdate):\n",
    "        self.firstname = firstname\n",
    "        self.lastname = lastname\n",
    "        self.birthdate = birthdate\n",
    "        \n",
    "    def __repr__(self):\n",
    "        return 'Nom : ' + str(self.firstname) + '\\n' + 'Prénom : ' + str(self.lastname) + '\\n' + str(self.birthdate) + '\\n' \n",
    "    \n",
    "class Employee(Personn):\n",
    "    def __init__(self, firstname, lastname, birthdate, salary):\n",
    "        self.salary = salary\n",
    "        Personn.__init__(self, firstname, lastname, birthdate)\n",
    "    \n",
    "    def __repr__(self):\n",
    "        return Personn.__repr__(self) + 'Salaire : ' + str(self.salary) + '\\n'\n",
    "\n",
    "class Cheff(Employee):\n",
    "    def __init__(self, firstname, lastname, birthdate, salary, service):\n",
    "        self.service = service\n",
    "        Employee.__init__(self, firstname, lastname, birthdate, salary)\n",
    "    \n",
    "    def __repr__(self):\n",
    "        return Employee.__repr__(self) + 'Service : ' + str(self.service) + '\\n'\n",
    "\n",
    "p1 = Personn('Caroline', 'Dupont', Birthdate(21,8,1975) )    \n",
    "print(p1)  \n",
    "e1 = Employee('Caroline', 'Dupont', Birthdate(21,8,1975), 1200 )    \n",
    "print(e1)  \n",
    "c1 = Cheff('Caroline', 'Dupont', Birthdate(21,8,1975), 1200, 'Compta')    \n",
    "print(c1)  "
   ]
  },
  {
   "cell_type": "code",
   "execution_count": null,
   "id": "casual-content",
   "metadata": {},
   "outputs": [],
   "source": []
  }
 ],
 "metadata": {
  "kernelspec": {
   "display_name": "Python 3",
   "language": "python",
   "name": "python3"
  },
  "language_info": {
   "codemirror_mode": {
    "name": "ipython",
    "version": 3
   },
   "file_extension": ".py",
   "mimetype": "text/x-python",
   "name": "python",
   "nbconvert_exporter": "python",
   "pygments_lexer": "ipython3",
   "version": "3.7.4"
  }
 },
 "nbformat": 4,
 "nbformat_minor": 5
}
