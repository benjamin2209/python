{
 "cells": [
  {
   "cell_type": "code",
   "execution_count": 19,
   "id": "solid-christopher",
   "metadata": {},
   "outputs": [
    {
     "name": "stdout",
     "output_type": "stream",
     "text": [
      "Le compte de Dupont a un solde de 1000\n",
      "Le compte de Dupont a un solde de 1100\n",
      "Le compte de Dupont a un solde de 900\n"
     ]
    }
   ],
   "source": [
    "#Le compte bancaire\n",
    "\n",
    "class Account:\n",
    "    def __init__(self, name = 'Dupont', balance = 1000):\n",
    "        self.name = name\n",
    "        self.balance = balance\n",
    "\n",
    "    def credit(self, amount):\n",
    "        self.balance += amount\n",
    "        \n",
    "    def debit(self, amount):\n",
    "        self.balance -= amount    \n",
    "    \n",
    "    def __repr__(self):\n",
    "        return ('Le compte de ' + self.name + ' a un solde de ' + str(self.balance))\n",
    "        \n",
    "a = Account()\n",
    "print(a)\n",
    "a.credit(100)\n",
    "print(a)\n",
    "a.debit(200)\n",
    "print(a)"
   ]
  },
  {
   "cell_type": "code",
   "execution_count": 26,
   "id": "passing-atlanta",
   "metadata": {},
   "outputs": [
    {
     "name": "stdout",
     "output_type": "stream",
     "text": [
      "P(0, 1)\n",
      "P(0, 1, 3)\n"
     ]
    }
   ],
   "source": [
    "#La surcharge d'opérateur\n",
    "\n",
    "class Point:\n",
    "    def __init__(self, x, y, z = None):\n",
    "        self.x = x\n",
    "        self.y = y\n",
    "        self.z = z\n",
    "        \n",
    "    def __repr__(self):\n",
    "        return ('P(' + str(self.x) + ', ' + str(self.y) + (', ' + str(self.z)  if self.z != None else '') + ')')\n",
    "print(Point(0, 1))\n",
    "print(Point(0, 1, 3))"
   ]
  },
  {
   "cell_type": "code",
   "execution_count": null,
   "id": "legendary-european",
   "metadata": {},
   "outputs": [],
   "source": []
  }
 ],
 "metadata": {
  "kernelspec": {
   "display_name": "Python 3",
   "language": "python",
   "name": "python3"
  },
  "language_info": {
   "codemirror_mode": {
    "name": "ipython",
    "version": 3
   },
   "file_extension": ".py",
   "mimetype": "text/x-python",
   "name": "python",
   "nbconvert_exporter": "python",
   "pygments_lexer": "ipython3",
   "version": "3.7.4"
  }
 },
 "nbformat": 4,
 "nbformat_minor": 5
}
